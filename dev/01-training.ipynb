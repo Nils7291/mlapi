{
 "cells": [
  {
   "cell_type": "code",
   "execution_count": 1,
   "metadata": {},
   "outputs": [
    {
     "name": "stdout",
     "output_type": "stream",
     "text": [
      "                 precision    recall  f1-score   support\n",
      "\n",
      "    Iris-setosa       1.00      1.00      1.00        18\n",
      "Iris-versicolor       0.93      1.00      0.97        14\n",
      " Iris-virginica       1.00      0.92      0.96        13\n",
      "\n",
      "       accuracy                           0.98        45\n",
      "      macro avg       0.98      0.97      0.98        45\n",
      "   weighted avg       0.98      0.98      0.98        45\n",
      "\n"
     ]
    },
    {
     "data": {
      "text/plain": [
       "['../app/iris.mdl']"
      ]
     },
     "execution_count": 1,
     "metadata": {},
     "output_type": "execute_result"
    }
   ],
   "source": [
    "import pandas as pd\n",
    "from sklearn.model_selection import train_test_split\n",
    "from sklearn.impute import SimpleImputer\n",
    "from sklearn.compose import ColumnTransformer\n",
    "from sklearn.ensemble import RandomForestClassifier\n",
    "from sklearn.pipeline import Pipeline\n",
    "from sklearn import metrics\n",
    "import joblib\n",
    "\n",
    "# Load the data\n",
    "data = pd.read_csv('iris.csv')\n",
    "\n",
    "# Features and target\n",
    "y = data['species']\n",
    "X = data.drop(columns=['species'])\n",
    "\n",
    "# Train-test split (30% test, random state 23)\n",
    "X_train, X_test, y_train, y_test = train_test_split(X, y, test_size=0.3, random_state=23)\n",
    "\n",
    "# Create a median imputer\n",
    "imputer = SimpleImputer(strategy='median')\n",
    "\n",
    "# ColumnTransformer that applies the imputer to all columns\n",
    "preprocessor = ColumnTransformer(\n",
    "    transformers=[\n",
    "        ('imputer', imputer, X.columns)\n",
    "    ]\n",
    ")\n",
    "\n",
    "# Random Forest Classifier with random state 23\n",
    "clf = RandomForestClassifier(random_state=23)\n",
    "\n",
    "# Pipeline with preprocessor and classifier\n",
    "pipe = Pipeline(steps=[\n",
    "    ('preprocessor', preprocessor),\n",
    "    ('classifier', clf)\n",
    "])\n",
    "\n",
    "# Train the pipeline\n",
    "pipe.fit(X_train, y_train)\n",
    "\n",
    "# Predict on test set\n",
    "y_pred = pipe.predict(X_test)\n",
    "\n",
    "# Print classification report\n",
    "print(metrics.classification_report(y_test, y_pred))\n",
    "\n",
    "# Save pipeline to file\n",
    "joblib.dump(pipe, '../app/iris.mdl')"
   ]
  }
 ],
 "metadata": {
  "kernelspec": {
   "display_name": ".venv",
   "language": "python",
   "name": "python3"
  },
  "language_info": {
   "codemirror_mode": {
    "name": "ipython",
    "version": 3
   },
   "file_extension": ".py",
   "mimetype": "text/x-python",
   "name": "python",
   "nbconvert_exporter": "python",
   "pygments_lexer": "ipython3",
   "version": "3.11.11"
  }
 },
 "nbformat": 4,
 "nbformat_minor": 2
}
